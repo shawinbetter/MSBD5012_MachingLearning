{
 "cells": [
  {
   "cell_type": "code",
   "execution_count": 1,
   "id": "6ce86f3b-3bf2-498d-892f-fb9fddb50769",
   "metadata": {},
   "outputs": [],
   "source": [
    "from tensorflow.keras.applications import VGG16,ResNet50,InceptionV3,DenseNet121,EfficientNetB2\n",
    "from tensorflow.keras.preprocessing import image\n",
    "import numpy as np\n",
    "from tensorflow.keras.applications.imagenet_utils import decode_predictions"
   ]
  },
  {
   "cell_type": "code",
   "execution_count": null,
   "id": "b0f7d4d4-842d-4223-bf18-eaab3cb331cb",
   "metadata": {},
   "outputs": [
    {
     "name": "stdout",
     "output_type": "stream",
     "text": [
      "WARNING:tensorflow:AutoGraph could not transform <function Model.make_predict_function.<locals>.predict_function at 0x299672700> and will run it as-is.\n",
      "Please report this to the TensorFlow team. When filing the bug, set the verbosity to 10 (on Linux, `export AUTOGRAPH_VERBOSITY=10`) and attach the full output.\n",
      "Cause: unsupported operand type(s) for -: 'NoneType' and 'int'\n",
      "To silence this warning, decorate the function with @tf.autograph.experimental.do_not_convert\n",
      "WARNING: AutoGraph could not transform <function Model.make_predict_function.<locals>.predict_function at 0x299672700> and will run it as-is.\n",
      "Please report this to the TensorFlow team. When filing the bug, set the verbosity to 10 (on Linux, `export AUTOGRAPH_VERBOSITY=10`) and attach the full output.\n",
      "Cause: unsupported operand type(s) for -: 'NoneType' and 'int'\n",
      "To silence this warning, decorate the function with @tf.autograph.experimental.do_not_convert\n"
     ]
    },
    {
     "name": "stderr",
     "output_type": "stream",
     "text": [
      "2021-10-31 00:44:28.419818: I tensorflow/compiler/mlir/mlir_graph_optimization_pass.cc:116] None of the MLIR optimization passes are enabled (registered 2)\n",
      "2021-10-31 00:44:28.419956: W tensorflow/core/platform/profile_utils/cpu_utils.cc:126] Failed to get CPU frequency: 0 Hz\n"
     ]
    },
    {
     "name": "stdout",
     "output_type": "stream",
     "text": [
      "WARNING:tensorflow:AutoGraph could not transform <function Model.make_predict_function.<locals>.predict_function at 0x29bf953a0> and will run it as-is.\n",
      "Please report this to the TensorFlow team. When filing the bug, set the verbosity to 10 (on Linux, `export AUTOGRAPH_VERBOSITY=10`) and attach the full output.\n",
      "Cause: unsupported operand type(s) for -: 'NoneType' and 'int'\n",
      "To silence this warning, decorate the function with @tf.autograph.experimental.do_not_convert\n",
      "WARNING: AutoGraph could not transform <function Model.make_predict_function.<locals>.predict_function at 0x29bf953a0> and will run it as-is.\n",
      "Please report this to the TensorFlow team. When filing the bug, set the verbosity to 10 (on Linux, `export AUTOGRAPH_VERBOSITY=10`) and attach the full output.\n",
      "Cause: unsupported operand type(s) for -: 'NoneType' and 'int'\n",
      "To silence this warning, decorate the function with @tf.autograph.experimental.do_not_convert\n"
     ]
    }
   ],
   "source": [
    "##Define Model\n",
    "vgg = VGG16() #（224，224）\n",
    "resnet = ResNet50() #（224,224)\n",
    "inception = InceptionV3() #（299，299）\n",
    "densenet = DenseNet121() #(224,224)\n",
    "eb = EfficientNetB2()\n",
    "\n",
    "path = 'images/'\n",
    "\n",
    "vgg_prob,resnet_prob,inception_prob,dense_prob,eb_prob = [[0]]*10,[[0]]*10,[[0]]*10,[[0]]*10,[[0]]*10\n",
    "\n",
    "for i in range(1,11):\n",
    "    img_path = path + str(i) + '.png'\n",
    "\n",
    "    img_224 = image.img_to_array(image.load_img(img_path, target_size=(224, 224)))/255\n",
    "    img_299 = image.img_to_array(image.load_img(img_path, target_size=(299, 299)))/255\n",
    "\n",
    "    vgg_prob[i-1] = decode_predictions(vgg.predict(img_224.reshape(1,224,224,3)))\n",
    "    # resnet_prob[i-1] = decode_predictions(resnet.predict(img_224.reshape(1,224,224,3),verbose=1))\n",
    "    # inception_prob[i-1] = decode_predictions(inception.predict(img_299.reshape(1,299,299,3)))\n",
    "    # dense_prob[i-1] = decode_predictions(densenet.predict(img_224.reshape(1,224,224,3)))\n",
    "    # eb_prob[i-1] = decode_predictions(eb.predict(img_224.reshape(1,224,224,3)))\n",
    "\n",
    "    break"
   ]
  },
  {
   "cell_type": "code",
   "execution_count": null,
   "id": "7bf1f895-57d9-4e97-abb1-5c7a5d8aa89c",
   "metadata": {},
   "outputs": [],
   "source": []
  }
 ],
 "metadata": {
  "kernelspec": {
   "display_name": "Python 3 (ipykernel)",
   "language": "python",
   "name": "python3"
  },
  "language_info": {
   "codemirror_mode": {
    "name": "ipython",
    "version": 3
   },
   "file_extension": ".py",
   "mimetype": "text/x-python",
   "name": "python",
   "nbconvert_exporter": "python",
   "pygments_lexer": "ipython3",
   "version": "3.8.12"
  }
 },
 "nbformat": 4,
 "nbformat_minor": 5
}
