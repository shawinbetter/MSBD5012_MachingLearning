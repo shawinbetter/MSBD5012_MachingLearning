{
  "nbformat": 4,
  "nbformat_minor": 0,
  "metadata": {
    "accelerator": "GPU",
    "colab": {
      "name": "Adversarial Demo.ipynb",
      "provenance": [],
      "private_outputs": true,
      "collapsed_sections": [],
      "toc_visible": true
    },
    "kernelspec": {
      "display_name": "Python 3",
      "name": "python3"
    }
  },
  "cells": [
    {
      "cell_type": "code",
      "metadata": {
        "colab_type": "code",
        "id": "vag2WYR6yTOC",
        "colab": {}
      },
      "source": [
        "from __future__ import absolute_import, division, print_function, unicode_literals\n",
        "\n",
        "try:\n",
        "  # %tensorflow_version only exists in Colab.\n",
        "  %tensorflow_version 2.x\n",
        "except Exception:\n",
        "  pass\n",
        "import tensorflow as tf\n",
        "import matplotlib as mpl\n",
        "import matplotlib.pyplot as plt\n",
        "\n",
        "mpl.rcParams['figure.figsize'] = (8, 8)\n",
        "mpl.rcParams['axes.grid'] = False"
      ],
      "execution_count": 0,
      "outputs": []
    },
    {
      "cell_type": "markdown",
      "metadata": {
        "colab_type": "text",
        "id": "XGCdmDAKpLuf"
      },
      "source": [
        "##### Copyright 2019 The TensorFlow Authors.\n",
        "\n",
        "Licensed under the Apache License, Version 2.0 (the \"License\");"
      ]
    },
    {
      "cell_type": "markdown",
      "metadata": {
        "colab_type": "text",
        "id": "wiTHY8dqxzx7"
      },
      "source": [
        "Let's pick and load a pretrained model! \n",
        "Or build your own, save as .h5 file, load!"
      ]
    },
    {
      "cell_type": "code",
      "metadata": {
        "colab_type": "code",
        "id": "nqhk2vYx6Ag0",
        "colab": {}
      },
      "source": [
        "pretrained_model = tf.keras.applications.MobileNetV2(include_top=True,\n",
        "                                                     weights='imagenet')\n",
        "\n",
        "# pretrained_model = tf.keras.applications.resnet50.ResNet50(include_top=True,\n",
        "#                                                      weights='imagenet')\n",
        "\n",
        "# pretrained_model = tf.keras.applications.inception_v3.InceptionV3(include_top=True,\n",
        "#                                                                   weights='imagenet')\n",
        "\n",
        "# pretrained_model = tf.keras.applications.nasnet.NASNetMobile(include_top=True,\n",
        "#                                                              weights='imagenet')\n",
        "\n",
        "pretrained_model.trainable = False\n",
        "\n",
        "# ImageNet labels #Decoder is the same for all pretrained imagenet models.\n",
        "decode_predictions = tf.keras.applications.mobilenet_v2.decode_predictions "
      ],
      "execution_count": 0,
      "outputs": []
    },
    {
      "cell_type": "code",
      "metadata": {
        "colab_type": "code",
        "id": "f2cLrJH0zpfC",
        "colab": {}
      },
      "source": [
        "# Helper function to preprocess the image so that it can be inputted in MobileNetV2\n",
        "def preprocess(image):\n",
        "  image = tf.cast(image, tf.float32)\n",
        "  image = image/255\n",
        "  image = image / tf.math.reduce_max(image)\n",
        "  image = tf.image.resize(image, (224, 224))\n",
        "  image = image[None, ...]\n",
        "  return image\n",
        "\n",
        "# Helper function to extract labels from probability vector\n",
        "def get_imagenet_label(probs):\n",
        "  return decode_predictions(probs, top=1)[0][0]"
      ],
      "execution_count": 0,
      "outputs": []
    },
    {
      "cell_type": "code",
      "metadata": {
        "colab_type": "code",
        "id": "wpYrQ4OQSYWk",
        "colab": {}
      },
      "source": [
        "#Upload any image\n",
        "image_raw = tf.io.read_file(\"/content/ad.jpg\") \n",
        "image = tf.image.decode_image(image_raw,3)\n",
        "\n",
        "image = preprocess(image)\n",
        "image_probs = pretrained_model.predict(image)"
      ],
      "execution_count": 0,
      "outputs": []
    },
    {
      "cell_type": "code",
      "metadata": {
        "id": "Zdzqs2kZh0ih",
        "colab_type": "code",
        "colab": {}
      },
      "source": [
        "image.shape"
      ],
      "execution_count": 0,
      "outputs": []
    },
    {
      "cell_type": "markdown",
      "metadata": {
        "colab_type": "text",
        "id": "mvPlta_uSbuI"
      },
      "source": [
        "Let's have a look at the image."
      ]
    },
    {
      "cell_type": "code",
      "metadata": {
        "colab_type": "code",
        "id": "99Jc-SNoSZot",
        "colab": {}
      },
      "source": [
        "plt.figure()\n",
        "plt.imshow(image[0])\n",
        "_, image_class, class_confidence = get_imagenet_label(image_probs)\n",
        "plt.title('{} : {:.2f}% Confidence'.format(image_class, class_confidence*100))\n",
        "plt.show()"
      ],
      "execution_count": 0,
      "outputs": []
    },
    {
      "cell_type": "markdown",
      "metadata": {
        "colab_type": "text",
        "id": "kElVTbF690CF"
      },
      "source": [
        "## Create the adversarial image\n",
        "\n",
        "### Implementing fast gradient sign method\n",
        "The first step is to create perturbations which will be used to distort the original image resulting in an adversarial image. As mentioned, for this task, the gradients are taken with respect to the image."
      ]
    },
    {
      "cell_type": "code",
      "metadata": {
        "colab_type": "code",
        "id": "FhZxlOnuBCVr",
        "colab": {}
      },
      "source": [
        "loss_object = tf.keras.losses.CategoricalCrossentropy()\n",
        "\n",
        "def create_adversarial_pattern(input_image, input_label):\n",
        "  with tf.GradientTape() as tape:\n",
        "    tape.watch(input_image) \n",
        "    prediction = pretrained_model(input_image)\n",
        "    loss = loss_object(input_label, prediction)\n",
        "\n",
        "  # Get the gradients of the loss w.r.t to the input image.\n",
        "  gradient = tape.gradient(loss, input_image)\n",
        "  # Get the sign of the gradients to create the perturbation\n",
        "  signed_grad = tf.sign(gradient)\n",
        "  return signed_grad, gradient "
      ],
      "execution_count": 0,
      "outputs": []
    },
    {
      "cell_type": "markdown",
      "metadata": {
        "colab_type": "text",
        "id": "RbuftX0eSlDQ"
      },
      "source": [
        "The resulting perturbations can also be visualised."
      ]
    },
    {
      "cell_type": "code",
      "metadata": {
        "colab_type": "code",
        "id": "rVjnb6M7Smv4",
        "colab": {}
      },
      "source": [
        "# Get the input label of the image.\n",
        "labrador_retriever_index = 208\n",
        "label = tf.one_hot(labrador_retriever_index, image_probs.shape[-1])\n",
        "label = tf.reshape(label, (1, image_probs.shape[-1]))\n",
        "\n",
        "perturbations , enhance = create_adversarial_pattern(image, label)\n",
        "plt.imshow(perturbations[0])"
      ],
      "execution_count": 0,
      "outputs": []
    },
    {
      "cell_type": "code",
      "metadata": {
        "id": "W5h43KY9i2ZQ",
        "colab_type": "code",
        "colab": {}
      },
      "source": [
        "perturbations.shape"
      ],
      "execution_count": 0,
      "outputs": []
    },
    {
      "cell_type": "markdown",
      "metadata": {
        "colab_type": "text",
        "id": "DKKSFHjwCyQH"
      },
      "source": [
        "Let's try this out for different values of epsilon and observe the resultant image. You'll notice that as the value of epsilon is increased, it becomes easier to fool the network. However, this comes as a trade-off which results in the perturbations becoming more identifiable."
      ]
    },
    {
      "cell_type": "code",
      "metadata": {
        "colab_type": "code",
        "id": "dBtG0Kl5SspV",
        "colab": {}
      },
      "source": [
        "def display_images(image, description):\n",
        "  \n",
        "  _, label, confidence = get_imagenet_label(pretrained_model.predict(image))\n",
        "  plt.figure()\n",
        "  plt.imshow(image[0])\n",
        "  plt.title('{} \\n {} : {:.2f}% Confidence'.format(description,\n",
        "                                                   label, confidence*100))\n",
        "  plt.show()"
      ],
      "execution_count": 0,
      "outputs": []
    },
    {
      "cell_type": "code",
      "metadata": {
        "id": "-Wb6EF-1lUow",
        "colab_type": "code",
        "colab": {}
      },
      "source": [
        "epsilons = [0, 0.001, 0.5]\n",
        "descriptions = [('Epsilon = {:0.3f}'.format(eps) if eps else 'Input')\n",
        "                for eps in epsilons]\n",
        "\n",
        "for i, eps in enumerate(epsilons):\n",
        "  adv_x = eps*perturbations + image \n",
        "  adv_x = tf.clip_by_value(adv_x, 0, 1)\n",
        "  display_images(adv_x, descriptions[i])"
      ],
      "execution_count": 0,
      "outputs": []
    },
    {
      "cell_type": "markdown",
      "metadata": {
        "id": "gm11rklSyx5Q",
        "colab_type": "text"
      },
      "source": [
        "We can look at different intensity of perturbation and what model sees\n"
      ]
    },
    {
      "cell_type": "code",
      "metadata": {
        "colab_type": "code",
        "id": "3DA8g-Zp69J4",
        "colab": {}
      },
      "source": [
        "epsilons = [0, 0.2, 1]\n",
        "descriptions = [('Epsilon = {:0.3f}'.format(eps) if eps else 'Input')\n",
        "                for eps in epsilons]\n",
        "\n",
        "for i, eps in enumerate(epsilons):\n",
        "  adv_x = eps*perturbations# + image \n",
        "  adv_x = tf.clip_by_value(adv_x, 0, 1)\n",
        "  display_images(adv_x, descriptions[i])"
      ],
      "execution_count": 0,
      "outputs": []
    },
    {
      "cell_type": "markdown",
      "metadata": {
        "id": "FKrLp-QYy9Bh",
        "colab_type": "text"
      },
      "source": [
        "We can also add different noise level to \"enhance\" the confidence of model.\n",
        "However, adding too much will hurt more than help"
      ]
    },
    {
      "cell_type": "markdown",
      "metadata": {
        "id": "TLbuGDROzL40",
        "colab_type": "text"
      },
      "source": [
        "Note that now the noise added is **negative of gradient**.\n",
        "This is what we usually do for gradient descend\n",
        "\n",
        "---\n",
        "\n"
      ]
    },
    {
      "cell_type": "markdown",
      "metadata": {
        "id": "vPKOxkkG49--",
        "colab_type": "text"
      },
      "source": [
        "Iterative attack:\n",
        "First, pick a class index.\n",
        "Then start the attack!"
      ]
    },
    {
      "cell_type": "code",
      "metadata": {
        "id": "1ISi8B3ue3gq",
        "colab_type": "code",
        "colab": {}
      },
      "source": [
        "image_raw = tf.io.read_file(\"/content/ad.jpg\")\n",
        "image = tf.image.decode_image(image_raw,3)\n",
        "\n",
        "image = preprocess(image)\n",
        "\n",
        "index = 208 #Find class index here: https://github.com/USCDataScience/dl4j-kerasimport-examples/blob/master/dl4j-import-example/data/imagenet_class_index.json\n",
        "label = tf.one_hot(index, image_probs.shape[-1])\n",
        "label = tf.reshape(label, (1, image_probs.shape[-1]))\n",
        "perturbations , enhance = create_adversarial_pattern(image, label)\n",
        "accumulated = 0*image #accumulate gradients over the iterations\n",
        "for j in range(20): #Most attacks will start to show result before 100 iterations\n",
        "\n",
        "  epsilons = [-0.01]\n",
        "  descriptions = [('Epsilon = {:0.3f}'.format(eps) if eps else 'Input')\n",
        "                  for eps in epsilons]\n",
        "\n",
        "  for i, eps in enumerate(epsilons):\n",
        "    accumulated = eps*enhance + accumulated\n",
        "    adv_x = eps*enhance + image \n",
        "    adv_x = tf.clip_by_value(adv_x, 0, 1)\n",
        "    display_images(adv_x, j)\n",
        "  perturbations , enhance = create_adversarial_pattern(image, label)\n",
        "  image = adv_x"
      ],
      "execution_count": 0,
      "outputs": []
    },
    {
      "cell_type": "code",
      "metadata": {
        "id": "-m2cjp8KcaR_",
        "colab_type": "code",
        "colab": {}
      },
      "source": [
        "display_images(accumulated, j)"
      ],
      "execution_count": 0,
      "outputs": []
    },
    {
      "cell_type": "code",
      "metadata": {
        "id": "uSWuNJ5xsphR",
        "colab_type": "code",
        "colab": {}
      },
      "source": [
        "display_images(accumulated*50, j)"
      ],
      "execution_count": 0,
      "outputs": []
    },
    {
      "cell_type": "code",
      "metadata": {
        "id": "cLHO3iEigonc",
        "colab_type": "code",
        "colab": {}
      },
      "source": [
        "image_raw = tf.io.read_file(\"/content/cat.jpeg\")\n",
        "image = tf.image.decode_image(image_raw,3)\n",
        "\n",
        "image = preprocess(image)\n",
        "display_images(accumulated*1+image, j)"
      ],
      "execution_count": 0,
      "outputs": []
    },
    {
      "cell_type": "markdown",
      "metadata": {
        "id": "Ia_U08zNkGAY",
        "colab_type": "text"
      },
      "source": [
        "This approach is not an Universial attack."
      ]
    },
    {
      "cell_type": "markdown",
      "metadata": {
        "id": "yVp3yegpOgwk",
        "colab_type": "text"
      },
      "source": [
        "Some fast exercises:\n",
        "\n",
        "1. Try create Universial attack  \n",
        "2. Test transferability of attack on different models. \n",
        "3. Plot and analyze accuracy lost among different models per iteration\n",
        "\n",
        "\n"
      ]
    }
  ]
}